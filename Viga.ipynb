{
 "cells": [
  {
   "cell_type": "markdown",
   "metadata": {},
   "source": [
    "CÁLCULO DE VIGA HIPERESTÁTICA - ANÁLISE MATRICIAL"
   ]
  },
  {
   "cell_type": "markdown",
   "metadata": {},
   "source": [
    "Descrição do Problema"
   ]
  },
  {
   "cell_type": "markdown",
   "metadata": {},
   "source": [
    "![Alt text](image-7.png)"
   ]
  },
  {
   "cell_type": "code",
   "execution_count": 1,
   "metadata": {},
   "outputs": [],
   "source": [
    "# Montagem do problema\n",
    "# .Nó1_______Elemento 1_______.Nó2_______Elemento 2__________.Nó3\n",
    "#             L1 = 8m                       L2 = 5m\n",
    "\n",
    "# 1,2                          3,4                           5,6 "
   ]
  },
  {
   "cell_type": "markdown",
   "metadata": {},
   "source": [
    "Importando as Bibliotecas do Python"
   ]
  },
  {
   "cell_type": "code",
   "execution_count": 2,
   "metadata": {},
   "outputs": [],
   "source": [
    "import pandas as pd\n",
    "import numpy as np\n",
    "import matplotlib.pyplot as plt"
   ]
  },
  {
   "cell_type": "markdown",
   "metadata": {},
   "source": [
    "Dados Elemento 1 (Nó 1-2)"
   ]
  },
  {
   "cell_type": "code",
   "execution_count": 3,
   "metadata": {},
   "outputs": [],
   "source": [
    "b = 0.12 # Geometria: Base da viga, em m.\n",
    "h = 0.40 # Geometria: Altura  da viga, em m.\n",
    "E = 50e9 # Módulo de Elasticidade da viga, em Pa.\n",
    "I = round(b*h**3/12, 5) # Inércia da Viga, em m^4.\n",
    "L = 8 # Comprimento do elemento 1 da viga, em m.\n",
    "w = 2e3 # Carga Distribuida aplicada no elemento 1, em N/m."
   ]
  },
  {
   "cell_type": "markdown",
   "metadata": {},
   "source": [
    "Matriz de Rigidez Local do Elemento 1"
   ]
  },
  {
   "cell_type": "code",
   "execution_count": 4,
   "metadata": {},
   "outputs": [
    {
     "name": "stdout",
     "output_type": "stream",
     "text": [
      "Matriz de Rigidez (Elemento 1): \n",
      "[[  750000.  3000000.  -750000.  3000000.]\n",
      " [ 3000000. 16000000. -3000000.  8000000.]\n",
      " [ -750000. -3000000.   750000. -3000000.]\n",
      " [ 3000000.  8000000. -3000000. 16000000.]]\n"
     ]
    }
   ],
   "source": [
    "k1 = 12*E*I/L**3\n",
    "k2 = 6*E*I/L**2\n",
    "k3 = 4*E*I/L\n",
    "k4 = k3/2\n",
    "\n",
    "# Identificação     1    2    3     4\n",
    "ke1 = np.array([  [ k1,  k2, -k1,  k2], # 1\n",
    "                  [ k2,  k3, -k2,  k4], # 2\n",
    "                  [-k1, -k2,  k1, -k2], # 3\n",
    "                  [ k2,  k4, -k2,  k3], # 4\n",
    "                ])\n",
    "\n",
    "print('Matriz de Rigidez (Elemento 1): ')\n",
    "print(ke1)"
   ]
  },
  {
   "cell_type": "markdown",
   "metadata": {},
   "source": [
    "Vetor de Forças Equivalentes do Elemento 1"
   ]
  },
  {
   "cell_type": "code",
   "execution_count": 5,
   "metadata": {},
   "outputs": [
    {
     "name": "stdout",
     "output_type": "stream",
     "text": [
      "Vetor de Forças Equivalentes (Elemento 1): \n",
      "[[ -8000.        ]\n",
      " [-10666.66666667]\n",
      " [ -8000.        ]\n",
      " [ 10666.66666667]]\n"
     ]
    }
   ],
   "source": [
    "f1 = w*L/2\n",
    "f2 = w*L**2/12\n",
    "\n",
    "feq1 = np.array([ [-f1],\n",
    "                  [-f2],\n",
    "                  [-f1],\n",
    "                  [ f2], \n",
    "                ])\n",
    "\n",
    "print('Vetor de Forças Equivalentes (Elemento 1): ')\n",
    "print(feq1)"
   ]
  },
  {
   "cell_type": "markdown",
   "metadata": {},
   "source": [
    "Dados Elemento 2 (Nó 2-3)"
   ]
  },
  {
   "cell_type": "code",
   "execution_count": 6,
   "metadata": {},
   "outputs": [],
   "source": [
    "b = 0.12 # Geometria: Base da viga, em m.\n",
    "h = 0.40 # Geometria: Altura  da viga, em m.\n",
    "E = 50e9 # Módulo de Elasticidade da viga, em Pa.\n",
    "I = round(b*h**3/12, 5) # Inércia da Viga, em m^4.\n",
    "L2 = 5 # Comprimento do elemento 2 da viga, em m.\n",
    "\n",
    "# Locação da Carga Concentrada no Elemento 2\n",
    "a = 2 # em m\n",
    "b = 3 # em m\n",
    "\n",
    "# Intensidade da Carga Concentrada\n",
    "P = 20e3 # em N"
   ]
  },
  {
   "cell_type": "markdown",
   "metadata": {},
   "source": [
    "Matriz de Rigidez Local do Elemento 2"
   ]
  },
  {
   "cell_type": "code",
   "execution_count": 7,
   "metadata": {},
   "outputs": [
    {
     "name": "stdout",
     "output_type": "stream",
     "text": [
      "Matriz de Rigidez (Elemento 2): \n",
      "[[ 3072000.  7680000. -3072000.  7680000.]\n",
      " [ 7680000. 25600000. -7680000. 12800000.]\n",
      " [-3072000. -7680000.  3072000. -7680000.]\n",
      " [ 7680000. 12800000. -7680000. 25600000.]]\n"
     ]
    }
   ],
   "source": [
    "k1 = 12*E*I/L2**3\n",
    "k2 = 6*E*I/L2**2\n",
    "k3 = 4*E*I/L2\n",
    "k4 = k3/2\n",
    "\n",
    "# Identificação     3    4    5     6\n",
    "ke2 = np.array([  [ k1,  k2, -k1,  k2],  # 3\n",
    "                  [ k2,  k3, -k2,  k4],  # 4\n",
    "                  [-k1, -k2,  k1, -k2],  # 5\n",
    "                  [ k2,  k4, -k2,  k3],  # 6\n",
    "                ])\n",
    "\n",
    "print('Matriz de Rigidez (Elemento 2): ')\n",
    "print(ke2)"
   ]
  },
  {
   "cell_type": "markdown",
   "metadata": {},
   "source": [
    "Vetor de Forças Equivalentes do Elemento 2"
   ]
  },
  {
   "cell_type": "code",
   "execution_count": 8,
   "metadata": {},
   "outputs": [
    {
     "name": "stdout",
     "output_type": "stream",
     "text": [
      "Vetor de Forças Equivalentes (Elemento 2): \n",
      "[[-12960.]\n",
      " [-14400.]\n",
      " [ -7040.]\n",
      " [  9600.]]\n"
     ]
    }
   ],
   "source": [
    "f3 = P*b**2*(3*a+b)/L2**3\n",
    "f4 = P*a*b**2/L2**2\n",
    "f5 = P*a**2*(3*b+a)/L2**3\n",
    "f6 = P*b*a**2/L2**2\n",
    "\n",
    "feq2 = np.array([ [-f3],\n",
    "                  [-f4],\n",
    "                  [-f5],\n",
    "                  [ f6], \n",
    "                ])\n",
    "\n",
    "print('Vetor de Forças Equivalentes (Elemento 2): ')\n",
    "print(feq2)"
   ]
  },
  {
   "cell_type": "markdown",
   "metadata": {},
   "source": [
    "Matriz de Rigidez Global K da Estrutura"
   ]
  },
  {
   "cell_type": "code",
   "execution_count": 9,
   "metadata": {},
   "outputs": [
    {
     "name": "stdout",
     "output_type": "stream",
     "text": [
      "[[  750000.          3000000.          -750000.          3000000.\n",
      "         0.                0.        ]\n",
      " [ 3000000.         16000000.         -3000000.          8000000.\n",
      "         0.                0.        ]\n",
      " [ -750000.         -3000000.          3822000.          4680000.\n",
      "  -3072000.          7680000.        ]\n",
      " [ 3000000.          8000000.          4680000.         41600000.00000001\n",
      "  -7680000.         12800000.        ]\n",
      " [       0.                0.         -3072000.         -7680000.\n",
      "   3072000.         -7680000.        ]\n",
      " [       0.                0.          7680000.         12800000.\n",
      "  -7680000.         25600000.        ]]\n"
     ]
    }
   ],
   "source": [
    "# Criar uma matriz 6x6 preenchida com zeros\n",
    "K = np.zeros((6,6))\n",
    "\n",
    "# Transportar a rigidez do elemento 1 para a Matriz da Estrutura\n",
    "K[0:4, 0:4] = K[0:4, 0:4] + ke1[0:4,0:4]\n",
    "\n",
    "# Transportar a rigidez do elemento 2 para a Matriz da Estrutura\n",
    "K[2:6, 2:6] = K[2:6, 2:6] + ke2[0:4,0:4]\n",
    "\n",
    "print(K)"
   ]
  },
  {
   "cell_type": "markdown",
   "metadata": {},
   "source": [
    "Vetor F de Esforços Externos"
   ]
  },
  {
   "cell_type": "code",
   "execution_count": 10,
   "metadata": {},
   "outputs": [],
   "source": [
    "# Construir um vetor 6x1 composto por zeros\n",
    "F = np.zeros((6,1))"
   ]
  },
  {
   "cell_type": "markdown",
   "metadata": {},
   "source": [
    "Vetor de Esforços Feq Equivalentes da Estrutra"
   ]
  },
  {
   "cell_type": "code",
   "execution_count": 11,
   "metadata": {},
   "outputs": [
    {
     "name": "stdout",
     "output_type": "stream",
     "text": [
      "[[ -8000.        ]\n",
      " [-10666.66666667]\n",
      " [-20960.        ]\n",
      " [ -3733.33333333]\n",
      " [ -7040.        ]\n",
      " [  9600.        ]]\n"
     ]
    }
   ],
   "source": [
    "# Criar Feq preenchida com zeros\n",
    "Feq = np.zeros((6,1))\n",
    "\n",
    "# Transportar feq1 para Feq\n",
    "Feq[0:4, 0] = feq1[0:4,0]\n",
    "\n",
    "# Transportar feq2 para Feq\n",
    "Feq[2:6, 0] = Feq[2:6,0] + feq2[0:4,0]\n",
    "\n",
    "print(Feq)"
   ]
  },
  {
   "cell_type": "markdown",
   "metadata": {},
   "source": [
    "Sistema de Equações via Matrizes Reduzidas (GDL Ativos)"
   ]
  },
  {
   "cell_type": "code",
   "execution_count": 12,
   "metadata": {},
   "outputs": [
    {
     "name": "stdout",
     "output_type": "stream",
     "text": [
      "[[16000000.          8000000.        ]\n",
      " [ 8000000.         41600000.00000001]]\n",
      "[[-10666.66666667]\n",
      " [ -3733.33333333]]\n"
     ]
    }
   ],
   "source": [
    "Kred = np.array([[K[1,1], K[1,3]],[K[3,1], K[3,3]]])\n",
    "print (Kred)\n",
    "\n",
    "Fred = np.array([[F[1,0] + Feq[1,0]],[F[3,0] + Feq[3,0]]])\n",
    "print (Fred)"
   ]
  },
  {
   "cell_type": "markdown",
   "metadata": {},
   "source": [
    "Solução do Sistema de Equações via Matrizes Reduzidas (GDL Ativos)"
   ]
  },
  {
   "cell_type": "code",
   "execution_count": 13,
   "metadata": {},
   "outputs": [
    {
     "name": "stdout",
     "output_type": "stream",
     "text": [
      "[[-6.87943262e-04]\n",
      " [ 4.25531915e-05]]\n"
     ]
    }
   ],
   "source": [
    "dred = np.linalg.solve(Kred, Fred)\n",
    "\n",
    "# Resultado em Radianos\n",
    "\n",
    "print(dred)"
   ]
  },
  {
   "cell_type": "markdown",
   "metadata": {},
   "source": [
    "CÁLCULO DAS REAÇÕES NOS APOIOS\n",
    "\n",
    "Faz-se necessário executar a operação: (R = K*d - Feq) onde d é o vetor de deslocamento da estrutura."
   ]
  },
  {
   "cell_type": "code",
   "execution_count": 14,
   "metadata": {},
   "outputs": [
    {
     "name": "stdout",
     "output_type": "stream",
     "text": [
      "[[ 6.06382979e+03]\n",
      " [ 0.00000000e+00]\n",
      " [ 2.32229787e+04]\n",
      " [-4.54747351e-13]\n",
      " [ 6.71319149e+03]\n",
      " [-9.05531915e+03]]\n"
     ]
    }
   ],
   "source": [
    "# Construir Vetor de Deslocamentos completo\n",
    "d = np.zeros((6,1))\n",
    "d[1] = dred[0]\n",
    "d[3] = dred[1]\n",
    "\n",
    "# Cálculo das Reações (forças/momentos nos nós) como R = K*d\n",
    "R = np.matmul(K,d) - Feq\n",
    "\n",
    "print(R)"
   ]
  },
  {
   "cell_type": "markdown",
   "metadata": {},
   "source": [
    "![Alt text](image-8.png)"
   ]
  },
  {
   "cell_type": "markdown",
   "metadata": {},
   "source": [
    "CÁLCULO DOS ESFORÇOS NOS ELEMENTOS\n",
    "\n",
    "Faz-se necessário executar a operação: (fe = Ke*de - Feq) onde de é o vetor de deslocamento do elemento"
   ]
  },
  {
   "cell_type": "code",
   "execution_count": 15,
   "metadata": {},
   "outputs": [
    {
     "name": "stdout",
     "output_type": "stream",
     "text": [
      "[[  6063.82978723]\n",
      " [     0.        ]\n",
      " [  9936.17021277]\n",
      " [-15489.36170213]]\n",
      "[[13286.80851064]\n",
      " [15489.36170213]\n",
      " [ 6713.19148936]\n",
      " [-9055.31914894]]\n"
     ]
    }
   ],
   "source": [
    "# Extrair de1 do vetor da estrutura\n",
    "de1 = d[0:4]\n",
    "\n",
    "# Executar operação\n",
    "fe1 = np.matmul(ke1, de1) - feq1\n",
    "\n",
    "print(fe1)\n",
    "\n",
    "# Extrair de1 do vetor da estrutura\n",
    "de2 = d[2:6]\n",
    "\n",
    "# Executar operação\n",
    "fe2 = np.matmul(ke2, de2) - feq2\n",
    "\n",
    "print(fe2)"
   ]
  },
  {
   "cell_type": "markdown",
   "metadata": {},
   "source": [
    "![Alt text](image-10.png)"
   ]
  },
  {
   "cell_type": "markdown",
   "metadata": {},
   "source": [
    "![Alt text](image-11.png)"
   ]
  }
 ],
 "metadata": {
  "kernelspec": {
   "display_name": "Python 3",
   "language": "python",
   "name": "python3"
  },
  "language_info": {
   "codemirror_mode": {
    "name": "ipython",
    "version": 3
   },
   "file_extension": ".py",
   "mimetype": "text/x-python",
   "name": "python",
   "nbconvert_exporter": "python",
   "pygments_lexer": "ipython3",
   "version": "3.11.2"
  },
  "orig_nbformat": 4
 },
 "nbformat": 4,
 "nbformat_minor": 2
}
